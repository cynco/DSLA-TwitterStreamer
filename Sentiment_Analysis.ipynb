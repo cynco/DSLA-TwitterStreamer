{
 "cells": [
  {
   "cell_type": "markdown",
   "metadata": {},
   "source": [
    "## Method 1: Short and sweet method using TextBlob\n",
    "\n",
    "TextBlob library provides with many NLP functions including pre-trained sentiment polarity probability. [Source](https://github.com/llSourcell/twitter_sentiment_challenge/blob/master/demo.py)"
   ]
  },
  {
   "cell_type": "code",
   "execution_count": 1,
   "metadata": {
    "collapsed": true
   },
   "outputs": [],
   "source": [
    "import numpy as np # linear algebra\n",
    "import pandas as pd \n",
    "import matplotlib as mpl\n",
    "import matplotlib.pyplot as plt\n",
    "%matplotlib inline"
   ]
  },
  {
   "cell_type": "code",
   "execution_count": 2,
   "metadata": {
    "collapsed": false
   },
   "outputs": [],
   "source": [
    "fullTweets = pd.read_csv('OutputStreaming2.txt', sep=\",\", header = None)\n",
    "fullTweets.columns = ['author', 'date', 'text']"
   ]
  },
  {
   "cell_type": "code",
   "execution_count": 3,
   "metadata": {
    "collapsed": false
   },
   "outputs": [
    {
     "name": "stdout",
     "output_type": "stream",
     "text": [
      "<class 'pandas.core.frame.DataFrame'>\n",
      "(101, 3)\n"
     ]
    },
    {
     "data": {
      "text/html": [
       "<div>\n",
       "<table border=\"1\" class=\"dataframe\">\n",
       "  <thead>\n",
       "    <tr style=\"text-align: right;\">\n",
       "      <th></th>\n",
       "      <th>author</th>\n",
       "      <th>date</th>\n",
       "      <th>text</th>\n",
       "    </tr>\n",
       "  </thead>\n",
       "  <tbody>\n",
       "    <tr>\n",
       "      <th>0</th>\n",
       "      <td>big_data_flow</td>\n",
       "      <td>2017-07-24 00:45:03</td>\n",
       "      <td>RT @DavidOro: Data Science for IoT: The role o...</td>\n",
       "    </tr>\n",
       "    <tr>\n",
       "      <th>1</th>\n",
       "      <td>DonaldTreeHive</td>\n",
       "      <td>2017-07-24 00:45:12</td>\n",
       "      <td>Dremio Introduces Self-Service Data Paradigm f...</td>\n",
       "    </tr>\n",
       "    <tr>\n",
       "      <th>2</th>\n",
       "      <td>earthspeaknews</td>\n",
       "      <td>2017-07-24 00:45:14</td>\n",
       "      <td>RT @ed_bleakney: Did USA just Waste 10 Billion...</td>\n",
       "    </tr>\n",
       "    <tr>\n",
       "      <th>3</th>\n",
       "      <td>BMash10</td>\n",
       "      <td>2017-07-24 00:45:34</td>\n",
       "      <td>Show your Data Science Love! https://t.co/Su8e...</td>\n",
       "    </tr>\n",
       "  </tbody>\n",
       "</table>\n",
       "</div>"
      ],
      "text/plain": [
       "           author                 date  \\\n",
       "0   big_data_flow  2017-07-24 00:45:03   \n",
       "1  DonaldTreeHive  2017-07-24 00:45:12   \n",
       "2  earthspeaknews  2017-07-24 00:45:14   \n",
       "3         BMash10  2017-07-24 00:45:34   \n",
       "\n",
       "                                                text  \n",
       "0  RT @DavidOro: Data Science for IoT: The role o...  \n",
       "1  Dremio Introduces Self-Service Data Paradigm f...  \n",
       "2  RT @ed_bleakney: Did USA just Waste 10 Billion...  \n",
       "3  Show your Data Science Love! https://t.co/Su8e...  "
      ]
     },
     "execution_count": 3,
     "metadata": {},
     "output_type": "execute_result"
    }
   ],
   "source": [
    "print(type(fullTweets))\n",
    "fullTweets.drop([0,1], inplace=True)\n",
    "fullTweets.reset_index(drop=True, inplace=True)\n",
    "print(fullTweets.shape)\n",
    "fullTweets.head(4)"
   ]
  },
  {
   "cell_type": "code",
   "execution_count": 5,
   "metadata": {
    "collapsed": false
   },
   "outputs": [
    {
     "name": "stdout",
     "output_type": "stream",
     "text": [
      "(101, 5)\n"
     ]
    }
   ],
   "source": [
    "df = pd.DataFrame(columns=['author','date','text','polarity','subjectivity'])\n",
    "df[['author','date','text']]=fullTweets.copy()\n",
    "print(df.shape)\n",
    "#df.head(6)"
   ]
  },
  {
   "cell_type": "code",
   "execution_count": 9,
   "metadata": {
    "collapsed": false
   },
   "outputs": [
    {
     "name": "stdout",
     "output_type": "stream",
     "text": [
      "lengths should match: 101 101 101\n"
     ]
    },
    {
     "data": {
      "text/html": [
       "<div>\n",
       "<table border=\"1\" class=\"dataframe\">\n",
       "  <thead>\n",
       "    <tr style=\"text-align: right;\">\n",
       "      <th></th>\n",
       "      <th>author</th>\n",
       "      <th>date</th>\n",
       "      <th>text</th>\n",
       "      <th>polarity</th>\n",
       "      <th>subjectivity</th>\n",
       "      <th>urls</th>\n",
       "    </tr>\n",
       "  </thead>\n",
       "  <tbody>\n",
       "    <tr>\n",
       "      <th>0</th>\n",
       "      <td>big_data_flow</td>\n",
       "      <td>2017-07-24 00:45:03</td>\n",
       "      <td>RT @DavidOro: Data Science for IoT: The role o...</td>\n",
       "      <td>NaN</td>\n",
       "      <td>NaN</td>\n",
       "      <td>[https://t.co/Ed0rwZc4gq]</td>\n",
       "    </tr>\n",
       "    <tr>\n",
       "      <th>1</th>\n",
       "      <td>DonaldTreeHive</td>\n",
       "      <td>2017-07-24 00:45:12</td>\n",
       "      <td>Dremio Introduces Self-Service Data Paradigm f...</td>\n",
       "      <td>NaN</td>\n",
       "      <td>NaN</td>\n",
       "      <td>[https://t.co/kuoseZsphH]</td>\n",
       "    </tr>\n",
       "    <tr>\n",
       "      <th>2</th>\n",
       "      <td>earthspeaknews</td>\n",
       "      <td>2017-07-24 00:45:14</td>\n",
       "      <td>Dremio Introduces Self-Service Data Paradigm f...</td>\n",
       "      <td>NaN</td>\n",
       "      <td>NaN</td>\n",
       "      <td>[]</td>\n",
       "    </tr>\n",
       "    <tr>\n",
       "      <th>3</th>\n",
       "      <td>BMash10</td>\n",
       "      <td>2017-07-24 00:45:34</td>\n",
       "      <td>Show your Data Science Love! https://t.co/Su8e...</td>\n",
       "      <td>NaN</td>\n",
       "      <td>NaN</td>\n",
       "      <td>[https://t.co/Su8eEqWykT, https://t.co/TCsX5Ft...</td>\n",
       "    </tr>\n",
       "    <tr>\n",
       "      <th>4</th>\n",
       "      <td>OfficialCitral</td>\n",
       "      <td>2017-07-24 00:46:13</td>\n",
       "      <td>#Job Opportunity for: EMBL: Data Visualisation...</td>\n",
       "      <td>NaN</td>\n",
       "      <td>NaN</td>\n",
       "      <td>[https://t.co/hFtegkxJi9]</td>\n",
       "    </tr>\n",
       "  </tbody>\n",
       "</table>\n",
       "</div>"
      ],
      "text/plain": [
       "           author                 date  \\\n",
       "0   big_data_flow  2017-07-24 00:45:03   \n",
       "1  DonaldTreeHive  2017-07-24 00:45:12   \n",
       "2  earthspeaknews  2017-07-24 00:45:14   \n",
       "3         BMash10  2017-07-24 00:45:34   \n",
       "4  OfficialCitral  2017-07-24 00:46:13   \n",
       "\n",
       "                                                text polarity subjectivity  \\\n",
       "0  RT @DavidOro: Data Science for IoT: The role o...      NaN          NaN   \n",
       "1  Dremio Introduces Self-Service Data Paradigm f...      NaN          NaN   \n",
       "2  Dremio Introduces Self-Service Data Paradigm f...      NaN          NaN   \n",
       "3  Show your Data Science Love! https://t.co/Su8e...      NaN          NaN   \n",
       "4  #Job Opportunity for: EMBL: Data Visualisation...      NaN          NaN   \n",
       "\n",
       "                                                urls  \n",
       "0                          [https://t.co/Ed0rwZc4gq]  \n",
       "1                          [https://t.co/kuoseZsphH]  \n",
       "2                                                 []  \n",
       "3  [https://t.co/Su8eEqWykT, https://t.co/TCsX5Ft...  \n",
       "4                          [https://t.co/hFtegkxJi9]  "
      ]
     },
     "execution_count": 9,
     "metadata": {},
     "output_type": "execute_result"
    }
   ],
   "source": [
    "# split off urls using regular expressions\n",
    "import re\n",
    "\n",
    "urlsL=[]\n",
    "textsL=[]\n",
    "for index, row in df.iterrows():\n",
    "    texti=row.text  # text_i\n",
    "    url=re.findall(r'http\\S+', texti)\n",
    "    #print('\\n',len(url),row.author, row.text[0:20])\n",
    "    urlsL+=[url]    \n",
    "    for urlj in url: #Some tweets contain several urls\n",
    "        textiSurl=texti.replace(urlj,'') #text_i sans url\n",
    "    #print('TEXT:',text1)\n",
    "    textsL+=[textiSurl]  # add it to the list\n",
    "print('lengths should match:',len(urlsL), len(textsL), len(df.text))\n",
    "#df.text = textsL  # replace the 'text' column in df\n",
    "#df['urls']=urlsL  # add a 'urls' column to df\n",
    "df.head(5)"
   ]
  },
  {
   "cell_type": "markdown",
   "metadata": {},
   "source": [
    "### Let's make a word cloud of our tweets"
   ]
  },
  {
   "cell_type": "code",
   "execution_count": 10,
   "metadata": {
    "collapsed": false
   },
   "outputs": [
    {
     "name": "stdout",
     "output_type": "stream",
     "text": [
      "<wordcloud.wordcloud.WordCloud object at 0x1160efc88>\n"
     ]
    },
    {
     "data": {
      "image/png": "[encoded data removed]",
      "text/plain": [
       "<matplotlib.figure.Figure at 0x11612ec18>"
      ]
     },
     "metadata": {},
     "output_type": "display_data"
    }
   ],
   "source": [
    "# Make a word cloud\n",
    "# will need to install wordCloud: conda install -c conda-forge wordcloud\n",
    "\n",
    "from subprocess import check_output\n",
    "from wordcloud import WordCloud, STOPWORDS\n",
    "\n",
    "#mpl.rcParams['figure.figsize']=(8.0,6.0)    #(6.0,4.0)\n",
    "mpl.rcParams['font.size']=12                #10 \n",
    "mpl.rcParams['savefig.dpi']=100             #72 \n",
    "mpl.rcParams['figure.subplot.bottom']=.1 \n",
    "\n",
    "\n",
    "stopwords = set(STOPWORDS) # This is a pre-packaged set of stop words.\n",
    "stopwords.update(['https','t.co','co']) #add other words as needed\n",
    "\n",
    "myString = str(\" \".join(df['text'])) # should be one string\n",
    "\n",
    "wordcloud = WordCloud(\n",
    "                          background_color='white',\n",
    "                          stopwords=stopwords,\n",
    "                          max_words=200,\n",
    "                          max_font_size=40, \n",
    "                          random_state=42\n",
    "                         ).generate(myString)\n",
    "\n",
    "print(wordcloud)\n",
    "fig = plt.figure(1)\n",
    "plt.imshow(wordcloud)\n",
    "plt.axis('off')\n",
    "plt.show()\n",
    "fig.savefig(\"word1.png\", dpi=900)\n"
   ]
  },
  {
   "cell_type": "code",
   "execution_count": 11,
   "metadata": {
    "collapsed": false
   },
   "outputs": [
    {
     "data": {
      "text/html": [
       "<div>\n",
       "<table border=\"1\" class=\"dataframe\">\n",
       "  <thead>\n",
       "    <tr style=\"text-align: right;\">\n",
       "      <th></th>\n",
       "      <th>author</th>\n",
       "      <th>date</th>\n",
       "      <th>text</th>\n",
       "      <th>polarity</th>\n",
       "      <th>subjectivity</th>\n",
       "      <th>urls</th>\n",
       "    </tr>\n",
       "  </thead>\n",
       "  <tbody>\n",
       "    <tr>\n",
       "      <th>0</th>\n",
       "      <td>big_data_flow</td>\n",
       "      <td>2017-07-24 00:45:03</td>\n",
       "      <td>RT @DavidOro: Data Science for IoT: The role o...</td>\n",
       "      <td>0</td>\n",
       "      <td>0</td>\n",
       "      <td>[https://t.co/Ed0rwZc4gq]</td>\n",
       "    </tr>\n",
       "    <tr>\n",
       "      <th>1</th>\n",
       "      <td>DonaldTreeHive</td>\n",
       "      <td>2017-07-24 00:45:12</td>\n",
       "      <td>Dremio Introduces Self-Service Data Paradigm f...</td>\n",
       "      <td>0</td>\n",
       "      <td>0</td>\n",
       "      <td>[https://t.co/kuoseZsphH]</td>\n",
       "    </tr>\n",
       "    <tr>\n",
       "      <th>2</th>\n",
       "      <td>earthspeaknews</td>\n",
       "      <td>2017-07-24 00:45:14</td>\n",
       "      <td>Dremio Introduces Self-Service Data Paradigm f...</td>\n",
       "      <td>0</td>\n",
       "      <td>0</td>\n",
       "      <td>[]</td>\n",
       "    </tr>\n",
       "    <tr>\n",
       "      <th>3</th>\n",
       "      <td>BMash10</td>\n",
       "      <td>2017-07-24 00:45:34</td>\n",
       "      <td>Show your Data Science Love! https://t.co/Su8e...</td>\n",
       "      <td>0.625</td>\n",
       "      <td>0.6</td>\n",
       "      <td>[https://t.co/Su8eEqWykT, https://t.co/TCsX5Ft...</td>\n",
       "    </tr>\n",
       "    <tr>\n",
       "      <th>4</th>\n",
       "      <td>OfficialCitral</td>\n",
       "      <td>2017-07-24 00:46:13</td>\n",
       "      <td>#Job Opportunity for: EMBL: Data Visualisation...</td>\n",
       "      <td>0</td>\n",
       "      <td>0</td>\n",
       "      <td>[https://t.co/hFtegkxJi9]</td>\n",
       "    </tr>\n",
       "  </tbody>\n",
       "</table>\n",
       "</div>"
      ],
      "text/plain": [
       "           author                 date  \\\n",
       "0   big_data_flow  2017-07-24 00:45:03   \n",
       "1  DonaldTreeHive  2017-07-24 00:45:12   \n",
       "2  earthspeaknews  2017-07-24 00:45:14   \n",
       "3         BMash10  2017-07-24 00:45:34   \n",
       "4  OfficialCitral  2017-07-24 00:46:13   \n",
       "\n",
       "                                                text polarity subjectivity  \\\n",
       "0  RT @DavidOro: Data Science for IoT: The role o...        0            0   \n",
       "1  Dremio Introduces Self-Service Data Paradigm f...        0            0   \n",
       "2  Dremio Introduces Self-Service Data Paradigm f...        0            0   \n",
       "3  Show your Data Science Love! https://t.co/Su8e...    0.625          0.6   \n",
       "4  #Job Opportunity for: EMBL: Data Visualisation...        0            0   \n",
       "\n",
       "                                                urls  \n",
       "0                          [https://t.co/Ed0rwZc4gq]  \n",
       "1                          [https://t.co/kuoseZsphH]  \n",
       "2                                                 []  \n",
       "3  [https://t.co/Su8eEqWykT, https://t.co/TCsX5Ft...  \n",
       "4                          [https://t.co/hFtegkxJi9]  "
      ]
     },
     "execution_count": 11,
     "metadata": {},
     "output_type": "execute_result"
    }
   ],
   "source": [
    "import tweepy\n",
    "from textblob import TextBlob\n",
    "\n",
    "# Try everything with just first ten rows\n",
    "for index, row in df.iterrows():\n",
    "    #print(row.text[0:20])\n",
    "    \n",
    "    # Perform Sentiment Analysis on Tweets\n",
    "    analysis = TextBlob(row.text)\n",
    "    \n",
    "    row.polarity, row.subjectivity = round(analysis.sentiment[0], 3), round(analysis.sentiment[1], 3)\n",
    "    #print(row.polarity, row.subjectivity, row.author,row.text[0:30])\n",
    "df.head(5)"
   ]
  },
  {
   "cell_type": "markdown",
   "metadata": {},
   "source": [
    "### Scatterplot using Plotly\n",
    "You can group your groups by their sentiment and subjectivity scores, tweet length, and time posted. If you want to perform K-means clustering on them, here's a [nice tutorial](https://pythonprogramming.net/flat-clustering-machine-learning-python-scikit-learn/) from pythonprogramming.net."
   ]
  },
  {
   "cell_type": "code",
   "execution_count": 12,
   "metadata": {
    "collapsed": false
   },
   "outputs": [
    {
     "name": "stdout",
     "output_type": "stream",
     "text": [
      "2.0.12\n"
     ]
    },
    {
     "data": {
      "text/html": [
       "<script>requirejs.config({paths: { 'plotly': ['https://cdn.plot.ly/plotly-latest.min']},});if(!window.Plotly) {{require(['plotly'],function(plotly) {window.Plotly=plotly;});}}</script>"
      ],
      "text/vnd.plotly.v1+html": [
       "<script>requirejs.config({paths: { 'plotly': ['https://cdn.plot.ly/plotly-latest.min']},});if(!window.Plotly) {{require(['plotly'],function(plotly) {window.Plotly=plotly;});}}</script>"
      ]
     },
     "metadata": {},
     "output_type": "display_data"
    }
   ],
   "source": [
    "# Will need to install plotly: conda install plotly\n",
    "import plotly.offline as py\n",
    "import plotly.tools as tls\n",
    "from plotly import __version__\n",
    "from plotly.offline import download_plotlyjs, init_notebook_mode, plot, iplot\n",
    "\n",
    "print( __version__) # requires version >= 1.9.0\n",
    "\n",
    "init_notebook_mode(connected=True)"
   ]
  },
  {
   "cell_type": "code",
   "execution_count": 16,
   "metadata": {
    "collapsed": false
   },
   "outputs": [],
   "source": [
    "# Use this simple plot to check that plotly.offline is working\n",
    "# Remove the hatch before 'iplot' to create the plot\n",
    "# A graph should appear below\n",
    "#iplot([{\"x\": [1, 2, 3], \"y\": [3, 1, 6]}])\n"
   ]
  },
  {
   "cell_type": "code",
   "execution_count": 15,
   "metadata": {
    "collapsed": false
   },
   "outputs": [
    {
     "data": {
      "application/vnd.plotly.v1+json": {
       "data": [
        {
         "marker": {
          "color": "rgba(0,0,255,1.0)",
          "line": {
           "color": "rgba(0,0,255,1.0)",
           "width": 1.5
          },
          "size": 6,
          "symbol": "cross"
         },
         "mode": "markers",
         "name": "lo",
         "text": "lo",
         "type": "scatter",
         "x": [
          0,
          0,
          0,
          0.625,
          0,
          0.454,
          0,
          0.625,
          0,
          0.625,
          0,
          0,
          0.28,
          0.625,
          0.467,
          0,
          0,
          0,
          0,
          0,
          0,
          0.625,
          0.625,
          -0.6,
          0,
          0,
          0.625,
          0.025,
          0.025,
          0,
          0.025,
          0.625,
          0.2,
          0,
          0.625,
          0.625,
          0.625,
          0,
          1,
          0.4,
          0.4
         ],
         "xaxis": "x1",
         "y": [
          0,
          0,
          0,
          0.6,
          0,
          0.333,
          0,
          0.6,
          0,
          0.6,
          0,
          0,
          0.72,
          0.6,
          0.667,
          0,
          0,
          0,
          0,
          0,
          0,
          0.6,
          0.6,
          0.583,
          0,
          0,
          0.6,
          0.775,
          0.775,
          0,
          0.775,
          0.6,
          0.4,
          0,
          0.6,
          0.6,
          0.6,
          0.1,
          1,
          0.4,
          0.4
         ],
         "yaxis": "y1"
        },
        {
         "marker": {
          "color": "rgba(0,191,191,1.0)",
          "line": {
           "color": "rgba(0,191,191,1.0)",
           "width": 1
          },
          "size": 6,
          "symbol": "dot"
         },
         "mode": "markers",
         "name": "ll",
         "text": "ll",
         "type": "scatter",
         "x": [
          0.4,
          0.625,
          -0.6,
          -0.6,
          -0.6,
          0.625,
          0.625,
          0.625,
          0.8,
          0.8,
          0.625,
          0.625,
          0,
          0,
          0,
          0.75,
          0.625,
          -0.75,
          -0.233,
          0.625,
          0,
          0,
          0.625,
          0.625,
          0.625,
          0.625,
          0.625,
          0.625,
          0,
          0,
          0,
          0,
          0.5,
          0,
          0.136,
          0.8,
          -0.6,
          -0.6,
          0,
          0,
          0,
          0.7,
          0.5,
          0,
          0.05,
          0.214,
          0.45,
          0.45,
          -0.75,
          -0.233,
          0.625,
          0.5,
          0,
          0,
          0,
          0.267,
          0,
          0,
          0,
          0,
          0.625
         ],
         "xaxis": "x1",
         "y": [
          0.4,
          0.6,
          0.583,
          0.583,
          0.583,
          0.6,
          0.6,
          0.6,
          1,
          1,
          0.6,
          0.6,
          0.3,
          0,
          0,
          0.95,
          0.6,
          1,
          0.85,
          0.6,
          0,
          0,
          0.6,
          0.6,
          0.6,
          0.6,
          0.6,
          0.6,
          0,
          0.45,
          0,
          0,
          0.5,
          0,
          0.455,
          0.75,
          0.583,
          0.583,
          0.357,
          0.357,
          0.357,
          0.85,
          0.6,
          0,
          0.5,
          0.643,
          0.85,
          0.85,
          1,
          0.85,
          0.6,
          0.6,
          0,
          0,
          0.357,
          0.367,
          0,
          0,
          0.175,
          0.175,
          0.6
         ],
         "yaxis": "y1"
        }
       ],
       "layout": {
        "autosize": false,
        "height": 288,
        "hovermode": "closest",
        "margin": {
         "b": 28,
         "l": 54,
         "pad": 0,
         "r": 43,
         "t": 34
        },
        "showlegend": true,
        "width": 432,
        "xaxis1": {
         "anchor": "y1",
         "domain": [
          0,
          1
         ],
         "mirror": "ticks",
         "nticks": 10,
         "range": [
          -0.8546926426947239,
          1.0977059647229608
         ],
         "showgrid": false,
         "showline": true,
         "side": "bottom",
         "tickfont": {
          "size": 12
         },
         "ticks": "inside",
         "type": "linear",
         "zeroline": false
        },
        "yaxis1": {
         "anchor": "x1",
         "domain": [
          0,
          1
         ],
         "mirror": "ticks",
         "nticks": 8,
         "range": [
          -0.06659079027869089,
          1.0665907902786915
         ],
         "showgrid": false,
         "showline": true,
         "side": "left",
         "tickfont": {
          "size": 12
         },
         "ticks": "inside",
         "type": "linear",
         "zeroline": false
        }
       }
      },
      "text/html": [
       "<div id=\"3c065463-411a-418d-bfe5-ba144b57e8fc\" style=\"height: 288px; width: 432px;\" class=\"plotly-graph-div\"></div><script type=\"text/javascript\">require([\"plotly\"], function(Plotly) { window.PLOTLYENV=window.PLOTLYENV || {};window.PLOTLYENV.BASE_URL=\"https://plot.ly\";Plotly.newPlot(\"3c065463-411a-418d-bfe5-ba144b57e8fc\", [{\"type\": \"scatter\", \"mode\": \"markers\", \"x\": [0.0, 0.0, 0.0, 0.625, 0.0, 0.454, 0.0, 0.625, 0.0, 0.625, 0.0, 0.0, 0.28, 0.625, 0.467, 0.0, 0.0, 0.0, 0.0, 0.0, 0.0, 0.625, 0.625, -0.6, 0.0, 0.0, 0.625, 0.025, 0.025, 0.0, 0.025, 0.625, 0.2, 0.0, 0.625, 0.625, 0.625, 0.0, 1.0, 0.4, 0.4], \"y\": [0.0, 0.0, 0.0, 0.6, 0.0, 0.333, 0.0, 0.6, 0.0, 0.6, 0.0, 0.0, 0.72, 0.6, 0.667, 0.0, 0.0, 0.0, 0.0, 0.0, 0.0, 0.6, 0.6, 0.583, 0.0, 0.0, 0.6, 0.775, 0.775, 0.0, 0.775, 0.6, 0.4, 0.0, 0.6, 0.6, 0.6, 0.1, 1.0, 0.4, 0.4], \"xaxis\": \"x1\", \"yaxis\": \"y1\", \"marker\": {\"color\": \"rgba(0,0,255,1.0)\", \"symbol\": \"cross\", \"size\": 6.0, \"line\": {\"color\": \"rgba(0,0,255,1.0)\", \"width\": 1.5}}, \"name\": \"lo\", \"text\": \"lo\"}, {\"type\": \"scatter\", \"mode\": \"markers\", \"x\": [0.4, 0.625, -0.6, -0.6, -0.6, 0.625, 0.625, 0.625, 0.8, 0.8, 0.625, 0.625, 0.0, 0.0, 0.0, 0.75, 0.625, -0.75, -0.233, 0.625, 0.0, 0.0, 0.625, 0.625, 0.625, 0.625, 0.625, 0.625, 0.0, 0.0, 0.0, 0.0, 0.5, 0.0, 0.136, 0.8, -0.6, -0.6, 0.0, 0.0, 0.0, 0.7, 0.5, 0.0, 0.05, 0.214, 0.45, 0.45, -0.75, -0.233, 0.625, 0.5, 0.0, 0.0, 0.0, 0.267, 0.0, 0.0, 0.0, 0.0, 0.625], \"y\": [0.4, 0.6, 0.583, 0.583, 0.583, 0.6, 0.6, 0.6, 1.0, 1.0, 0.6, 0.6, 0.3, 0.0, 0.0, 0.95, 0.6, 1.0, 0.85, 0.6, 0.0, 0.0, 0.6, 0.6, 0.6, 0.6, 0.6, 0.6, 0.0, 0.45, 0.0, 0.0, 0.5, 0.0, 0.455, 0.75, 0.583, 0.583, 0.357, 0.357, 0.357, 0.85, 0.6, 0.0, 0.5, 0.643, 0.85, 0.85, 1.0, 0.85, 0.6, 0.6, 0.0, 0.0, 0.357, 0.367, 0.0, 0.0, 0.175, 0.175, 0.6], \"xaxis\": \"x1\", \"yaxis\": \"y1\", \"marker\": {\"color\": \"rgba(0,191,191,1.0)\", \"symbol\": \"dot\", \"size\": 6.0, \"line\": {\"color\": \"rgba(0,191,191,1.0)\", \"width\": 1.0}}, \"name\": \"ll\", \"text\": \"ll\"}], {\"width\": 432, \"height\": 288, \"autosize\": false, \"hovermode\": \"closest\", \"margin\": {\"l\": 54, \"r\": 43, \"t\": 34, \"b\": 28, \"pad\": 0}, \"xaxis1\": {\"anchor\": \"y1\", \"zeroline\": false, \"ticks\": \"inside\", \"type\": \"linear\", \"range\": [-0.8546926426947239, 1.0977059647229608], \"showgrid\": false, \"domain\": [0.0, 1.0], \"side\": \"bottom\", \"tickfont\": {\"size\": 12.0}, \"nticks\": 10, \"mirror\": \"ticks\", \"showline\": true}, \"yaxis1\": {\"anchor\": \"x1\", \"zeroline\": false, \"ticks\": \"inside\", \"type\": \"linear\", \"range\": [-0.06659079027869089, 1.0665907902786915], \"showgrid\": false, \"domain\": [0.0, 1.0], \"side\": \"left\", \"tickfont\": {\"size\": 12.0}, \"nticks\": 8, \"mirror\": \"ticks\", \"showline\": true}, \"showlegend\": true}, {\"showLink\": true, \"linkText\": \"Export to plot.ly\"})});</script>"
      ],
      "text/vnd.plotly.v1+html": [
       "<div id=\"3c065463-411a-418d-bfe5-ba144b57e8fc\" style=\"height: 288px; width: 432px;\" class=\"plotly-graph-div\"></div><script type=\"text/javascript\">require([\"plotly\"], function(Plotly) { window.PLOTLYENV=window.PLOTLYENV || {};window.PLOTLYENV.BASE_URL=\"https://plot.ly\";Plotly.newPlot(\"3c065463-411a-418d-bfe5-ba144b57e8fc\", [{\"type\": \"scatter\", \"mode\": \"markers\", \"x\": [0.0, 0.0, 0.0, 0.625, 0.0, 0.454, 0.0, 0.625, 0.0, 0.625, 0.0, 0.0, 0.28, 0.625, 0.467, 0.0, 0.0, 0.0, 0.0, 0.0, 0.0, 0.625, 0.625, -0.6, 0.0, 0.0, 0.625, 0.025, 0.025, 0.0, 0.025, 0.625, 0.2, 0.0, 0.625, 0.625, 0.625, 0.0, 1.0, 0.4, 0.4], \"y\": [0.0, 0.0, 0.0, 0.6, 0.0, 0.333, 0.0, 0.6, 0.0, 0.6, 0.0, 0.0, 0.72, 0.6, 0.667, 0.0, 0.0, 0.0, 0.0, 0.0, 0.0, 0.6, 0.6, 0.583, 0.0, 0.0, 0.6, 0.775, 0.775, 0.0, 0.775, 0.6, 0.4, 0.0, 0.6, 0.6, 0.6, 0.1, 1.0, 0.4, 0.4], \"xaxis\": \"x1\", \"yaxis\": \"y1\", \"marker\": {\"color\": \"rgba(0,0,255,1.0)\", \"symbol\": \"cross\", \"size\": 6.0, \"line\": {\"color\": \"rgba(0,0,255,1.0)\", \"width\": 1.5}}, \"name\": \"lo\", \"text\": \"lo\"}, {\"type\": \"scatter\", \"mode\": \"markers\", \"x\": [0.4, 0.625, -0.6, -0.6, -0.6, 0.625, 0.625, 0.625, 0.8, 0.8, 0.625, 0.625, 0.0, 0.0, 0.0, 0.75, 0.625, -0.75, -0.233, 0.625, 0.0, 0.0, 0.625, 0.625, 0.625, 0.625, 0.625, 0.625, 0.0, 0.0, 0.0, 0.0, 0.5, 0.0, 0.136, 0.8, -0.6, -0.6, 0.0, 0.0, 0.0, 0.7, 0.5, 0.0, 0.05, 0.214, 0.45, 0.45, -0.75, -0.233, 0.625, 0.5, 0.0, 0.0, 0.0, 0.267, 0.0, 0.0, 0.0, 0.0, 0.625], \"y\": [0.4, 0.6, 0.583, 0.583, 0.583, 0.6, 0.6, 0.6, 1.0, 1.0, 0.6, 0.6, 0.3, 0.0, 0.0, 0.95, 0.6, 1.0, 0.85, 0.6, 0.0, 0.0, 0.6, 0.6, 0.6, 0.6, 0.6, 0.6, 0.0, 0.45, 0.0, 0.0, 0.5, 0.0, 0.455, 0.75, 0.583, 0.583, 0.357, 0.357, 0.357, 0.85, 0.6, 0.0, 0.5, 0.643, 0.85, 0.85, 1.0, 0.85, 0.6, 0.6, 0.0, 0.0, 0.357, 0.367, 0.0, 0.0, 0.175, 0.175, 0.6], \"xaxis\": \"x1\", \"yaxis\": \"y1\", \"marker\": {\"color\": \"rgba(0,191,191,1.0)\", \"symbol\": \"dot\", \"size\": 6.0, \"line\": {\"color\": \"rgba(0,191,191,1.0)\", \"width\": 1.0}}, \"name\": \"ll\", \"text\": \"ll\"}], {\"width\": 432, \"height\": 288, \"autosize\": false, \"hovermode\": \"closest\", \"margin\": {\"l\": 54, \"r\": 43, \"t\": 34, \"b\": 28, \"pad\": 0}, \"xaxis1\": {\"anchor\": \"y1\", \"zeroline\": false, \"ticks\": \"inside\", \"type\": \"linear\", \"range\": [-0.8546926426947239, 1.0977059647229608], \"showgrid\": false, \"domain\": [0.0, 1.0], \"side\": \"bottom\", \"tickfont\": {\"size\": 12.0}, \"nticks\": 10, \"mirror\": \"ticks\", \"showline\": true}, \"yaxis1\": {\"anchor\": \"x1\", \"zeroline\": false, \"ticks\": \"inside\", \"type\": \"linear\", \"range\": [-0.06659079027869089, 1.0665907902786915], \"showgrid\": false, \"domain\": [0.0, 1.0], \"side\": \"left\", \"tickfont\": {\"size\": 12.0}, \"nticks\": 8, \"mirror\": \"ticks\", \"showline\": true}, \"showlegend\": true}, {\"showLink\": true, \"linkText\": \"Export to plot.ly\"})});</script>"
      ]
     },
     "metadata": {},
     "output_type": "display_data"
    }
   ],
   "source": [
    "colors = ['b', 'c', 'y', 'm', 'r']\n",
    "\n",
    "# You can subset your datapoints by different criteria and then assign them to a separate group\n",
    "lo = plt.scatter(df.loc[0:40,'polarity'], df.loc[0:40,'subjectivity'], marker='x', color=colors[0])\n",
    "ll = plt.scatter(df.loc[40:,'polarity'], df.loc[40:,'subjectivity'], marker='o', color=colors[1])\n",
    "# l  = plt.scatter(np.random.random(10), np.random.random(10), marker='o', color=colors[1])\n",
    "# a  = plt.scatter(np.random.random(10), np.random.random(10), marker='o', color=colors[2])\n",
    "# h  = plt.scatter(np.random.random(10), np.random.random(10), marker='o', color=colors[3])\n",
    "# hh = plt.scatter(np.random.random(10), np.random.random(10), marker='o', color=colors[4])\n",
    "# ho = plt.scatter(np.random.random(10), np.random.random(10), marker='x', color=colors[4])\n",
    "\n",
    "#text = iter(['Low Outlier', 'LoLo', 'Lo', 'Average', 'Hi', 'HiHi', 'High Outlier'])\n",
    "text = iter(['lo', 'll'])\n",
    "\n",
    "mpl_fig = plt.gcf()\n",
    "plotly_fig = tls.mpl_to_plotly( mpl_fig )\n",
    "\n",
    "for dat in plotly_fig['data']:\n",
    "    t = next(text)\n",
    "    dat.update({'name': t, 'text':t})\n",
    "\n",
    "plotly_fig['layout']['showlegend'] = True\n",
    "iplot(plotly_fig)"
   ]
  },
  {
   "cell_type": "markdown",
   "metadata": {
    "collapsed": true
   },
   "source": [
    "## Perform sentiment analysis using [MonkeyLearn](https://monkeylearn.com/)  \n",
    "\n",
    "The method above can easily be adapted to use MonkeyLearn instead of TextBlob.\n",
    "You could compare how the two perform.\n",
    "[source](https://sidmouthwebdesign.github.io/josephmacmillan/twitter-sentiment-analysis-with-monkeylearn-and-tweepy/)\n",
    "\n",
    "[MonkeyLearn Free Account](https://monkeylearn.com/pricing/)"
   ]
  },
  {
   "cell_type": "code",
   "execution_count": null,
   "metadata": {
    "collapsed": false
   },
   "outputs": [],
   "source": [
    "import \n",
    "\n",
    "for index, row in df.iterrows():\n",
    "    print(row.text)\n",
    "    \n",
    "    #Perform Sentiment Analysis on Tweets\n",
    "    ml = MonkeyLearn('enter your code here')\n",
    "    text_list = [row.text]\n",
    "    module_id = 'cl_... enter module id'\n",
    "    res = ml.classifiers.classify(module_id, text_list, sandbox=True)\n",
    "    print(res.result)\n",
    "    print(\"\")"
   ]
  },
  {
   "cell_type": "markdown",
   "metadata": {
    "collapsed": true
   },
   "source": [
    "# Method 2: SentiWordnet"
   ]
  },
  {
   "cell_type": "markdown",
   "metadata": {},
   "source": [
    "Using SentiWordnet\n",
    "One of the most straightforward approaches is to use SentiWordnet to compute the polarity of the words and average that value. The plan is to use this model as a baseline for future approaches. It’s also a good idea to know about SentiWordnet and how to use it. [Source](http://nlpforhackers.io/sentiment-analysis-intro/)"
   ]
  },
  {
   "cell_type": "code",
   "execution_count": 99,
   "metadata": {
    "collapsed": true
   },
   "outputs": [],
   "source": [
    "from nltk.stem import WordNetLemmatizer\n",
    "from nltk.corpus import wordnet as wn\n",
    "from nltk.corpus import sentiwordnet as swn\n",
    "from nltk import sent_tokenize, word_tokenize, pos_tag\n",
    "\n",
    "lemmatizer = WordNetLemmatizer()\n",
    " \n",
    " \n",
    "def penn_to_wn(tag):\n",
    "    \"\"\"\n",
    "    Convert between the PennTreebank tags to simple Wordnet tags\n",
    "    \"\"\"\n",
    "    if tag.startswith('J'):\n",
    "        return wn.ADJ\n",
    "    elif tag.startswith('N'):\n",
    "        return wn.NOUN\n",
    "    elif tag.startswith('R'):\n",
    "        return wn.ADV\n",
    "    elif tag.startswith('V'):\n",
    "        return wn.VERB\n",
    "    return None"
   ]
  },
  {
   "cell_type": "code",
   "execution_count": 100,
   "metadata": {
    "collapsed": true
   },
   "outputs": [],
   "source": [
    "def clean_text(text):\n",
    "    text = text.replace(\"<br />\", \" \")\n",
    "    #text = text.decode(encoding = 'UTF-8')\n",
    " \n",
    "    return text"
   ]
  },
  {
   "cell_type": "code",
   "execution_count": 101,
   "metadata": {
    "collapsed": false
   },
   "outputs": [
    {
     "name": "stdout",
     "output_type": "stream",
     "text": [
      "1 1\n",
      "1 0\n",
      "0 0\n",
      "0 0\n",
      "1 0\n"
     ]
    }
   ],
   "source": [
    " \n",
    "def swn_polarity(text):\n",
    "    \"\"\"\n",
    "    Return a sentiment polarity: 0 = negative, 1 = positive\n",
    "    \"\"\"\n",
    " \n",
    "    sentiment = 0.0\n",
    "    tokens_count = 0\n",
    " \n",
    "    text = clean_text(text)\n",
    " \n",
    " \n",
    "    raw_sentences = sent_tokenize(text)\n",
    "    for raw_sentence in raw_sentences:\n",
    "        tagged_sentence = pos_tag(word_tokenize(raw_sentence))\n",
    " \n",
    "        for word, tag in tagged_sentence:\n",
    "            wn_tag = penn_to_wn(tag)\n",
    "            if wn_tag not in (wn.NOUN, wn.ADJ, wn.ADV):\n",
    "                continue\n",
    " \n",
    "            lemma = lemmatizer.lemmatize(word, pos=wn_tag)\n",
    "            if not lemma:\n",
    "                continue\n",
    " \n",
    "            synsets = wn.synsets(lemma, pos=wn_tag)\n",
    "            if not synsets:\n",
    "                continue\n",
    " \n",
    "            # Take the first sense, the most common\n",
    "            synset = synsets[0]\n",
    "            swn_synset = swn.senti_synset(synset.name())\n",
    " \n",
    "            sentiment += swn_synset.pos_score() - swn_synset.neg_score()\n",
    "            tokens_count += 1\n",
    " \n",
    "    # judgment call ? Default to positive or negative\n",
    "    if not tokens_count:\n",
    "        return 0\n",
    " \n",
    "    # sum greater than 0 => positive sentiment\n",
    "    if sentiment >= 0:\n",
    "        return 1\n",
    " \n",
    "    # negative sentiment\n",
    "    return 0\n",
    "# Since we're shuffling, you'll get different results\n",
    "print(swn_polarity(train_X[0]), train_y[0]) \n",
    "print(swn_polarity(train_X[1]), train_y[1]) \n",
    "print(swn_polarity(train_X[2]), train_y[2]) \n",
    "print(swn_polarity(train_X[3]), train_y[3]) \n",
    "print(swn_polarity(train_X[4]), train_y[4]) "
   ]
  },
  {
   "cell_type": "markdown",
   "metadata": {},
   "source": [
    "## Method 3: NLTK SentimentAnalyzer  \n",
    "\n",
    "NLTK has some neat built in utilities for doing sentiment analysis. Here's sample code \"SentimentAnalyzer\" from nlpfor hackers. It trains a NaiveBayes Classifier model on a labeled dataset of 25,000 movie reviews.\n",
    "[Source](http://nlpforhackers.io/sentiment-analysis-intro/)\n",
    "\n",
    "## Read and split train and test sets"
   ]
  },
  {
   "cell_type": "code",
   "execution_count": 93,
   "metadata": {
    "collapsed": false
   },
   "outputs": [
    {
     "name": "stdout",
     "output_type": "stream",
     "text": [
      "(3000, 3)\n",
      "\"With all this stuff going down at the moment with MJ i've started listening to his music\n",
      "1\n"
     ]
    }
   ],
   "source": [
    "#import pandas as pd \n",
    "ntotal=3000\n",
    "data = pd.read_csv(\"labeledTrainData.tsv\", header=0, delimiter=\"\\t\", quoting=3, nrows=ntotal)       \n",
    "#data = pd.read_csv(\"labeledTrainData.tsv\", header=0, delimiter=\"\\t\", quoting=3)\n",
    "# 25000 movie reviews\n",
    "print(data.shape) # (25000, 3) \n",
    "print(data[\"review\"][0][:89])         # Check out the review\n",
    "print(data[\"sentiment\"][0])          # Check out the sentiment (0/1)"
   ]
  },
  {
   "cell_type": "code",
   "execution_count": 94,
   "metadata": {
    "collapsed": false
   },
   "outputs": [
    {
     "data": {
      "text/plain": [
       "3000"
      ]
     },
     "execution_count": 94,
     "metadata": {},
     "output_type": "execute_result"
    }
   ],
   "source": [
    "len(data[\"review\"])"
   ]
  },
  {
   "cell_type": "markdown",
   "metadata": {},
   "source": [
    "The sentiment in this corpus is 0 for negative and 1 for positive. \n",
    "\n",
    "First, we shuffle the data and split it for training and testing."
   ]
  },
  {
   "cell_type": "code",
   "execution_count": 98,
   "metadata": {
    "collapsed": false
   },
   "outputs": [
    {
     "name": "stdout",
     "output_type": "stream",
     "text": [
      "2400\n"
     ]
    }
   ],
   "source": [
    "import random as rd\n",
    "sentiment_data = list(zip(data[\"review\"], data[\"sentiment\"]))\n",
    "len(sentiment_data)\n",
    "rd.shuffle(sentiment_data)\n",
    "# 80% for training\n",
    "ntrain=int(ntotal*4/5)\n",
    "print(ntrain)\n",
    "train_X, train_y = zip(*sentiment_data[:ntrain])\n",
    "# Keep 20% for testing\n",
    "test_X, test_y = zip(*sentiment_data[ntrain:])"
   ]
  },
  {
   "cell_type": "markdown",
   "metadata": {
    "collapsed": true
   },
   "source": [
    "## Train and test model (Method 3)"
   ]
  },
  {
   "cell_type": "code",
   "execution_count": 102,
   "metadata": {
    "collapsed": false
   },
   "outputs": [
    {
     "name": "stdout",
     "output_type": "stream",
     "text": [
      "['I', 'like', 'the', 'movie', '.']\n",
      "['I', \"don't\", 'like_NEG', 'the_NEG', 'movie_NEG', '.']\n"
     ]
    }
   ],
   "source": [
    "from unidecode import unidecode\n",
    "from nltk import word_tokenize\n",
    "from nltk.classify import NaiveBayesClassifier\n",
    "from nltk.sentiment import SentimentAnalyzer\n",
    "from nltk.sentiment.util import extract_unigram_feats, mark_negation\n",
    " \n",
    " \n",
    "# mark_negation appends a \"_NEG\" to words after a negation until a punctuation mark.\n",
    "# this means that the same after a negation will be handled differently \n",
    "# than the word that's not after a negation by the classifier\n",
    "print(mark_negation(\"I like the movie .\".split()))        # ['I', 'like', 'the', 'movie.']\n",
    "print(mark_negation(\"I don't like the movie .\".split()))  # ['I', \"don't\", 'like_NEG', 'the_NEG', 'movie._NEG']"
   ]
  },
  {
   "cell_type": "code",
   "execution_count": 104,
   "metadata": {
    "collapsed": false
   },
   "outputs": [
    {
     "name": "stdout",
     "output_type": "stream",
     "text": [
      "Vocabulary:  653057\n",
      "Computing Unigran Features ...\n",
      "Unigram Features:  4683\n"
     ]
    }
   ],
   "source": [
    "# The nltk classifier won't be able to handle the whole training set\n",
    "TRAINING_COUNT = ntrain\n",
    " \n",
    "analyzer = SentimentAnalyzer()\n",
    "vocabulary = analyzer.all_words([mark_negation(word_tokenize(unidecode(clean_text(instance)))) \n",
    "                                 for instance in train_X[:TRAINING_COUNT]])\n",
    "print(\"Vocabulary: \", len(vocabulary)) # 1356908\n",
    " \n",
    "print(\"Computing Unigram Features ...\")\n",
    "unigram_features = analyzer.unigram_word_feats(vocabulary, min_freq=10)\n",
    "print(\"Unigram Features: \", len(unigram_features)) # 8237\n",
    " \n",
    "analyzer.add_feat_extractor(extract_unigram_feats, unigrams=unigram_features)\n",
    " \n",
    "# Build the training set\n",
    "_train_X = analyzer.apply_features([mark_negation(word_tokenize(unidecode(clean_text(instance)))) \n",
    "                                    for instance in train_X[:TRAINING_COUNT]], labeled=False)\n",
    " \n",
    "# Build the test set\n",
    "_test_X = analyzer.apply_features([mark_negation(word_tokenize(unidecode(clean_text(instance)))) \n",
    "                                   for instance in test_X], labeled=False)"
   ]
  },
  {
   "cell_type": "code",
   "execution_count": 105,
   "metadata": {
    "collapsed": false
   },
   "outputs": [
    {
     "name": "stdout",
     "output_type": "stream",
     "text": [
      "Training classifier\n"
     ]
    }
   ],
   "source": [
    "trainer = NaiveBayesClassifier.train\n",
    "classifier = analyzer.train(trainer, zip(_train_X, train_y[:TRAINING_COUNT]))"
   ]
  },
  {
   "cell_type": "code",
   "execution_count": 106,
   "metadata": {
    "collapsed": false
   },
   "outputs": [
    {
     "name": "stdout",
     "output_type": "stream",
     "text": [
      "Evaluating NaiveBayesClassifier results...\n",
      "Accuracy:  0\n"
     ]
    }
   ],
   "source": [
    "score = analyzer.evaluate(zip(_test_X, test_y))\n",
    "print(\"Accuracy: \", score['Accuracy']) # 0.8064 for TRAINING_COUNT=5000"
   ]
  },
  {
   "cell_type": "markdown",
   "metadata": {},
   "source": [
    "You should obtain a 0.8064 accuracy using this method (using only the first 5000 training samples)."
   ]
  },
  {
   "cell_type": "markdown",
   "metadata": {
    "collapsed": true
   },
   "source": [
    "# Method 4: NLTK SklearnClassifier\n",
    "[Source](https://pythonprogramming.net/new-data-set-training-nltk-tutorial/)\n",
    "\n",
    "Warning: This model may take several hours to train."
   ]
  },
  {
   "cell_type": "code",
   "execution_count": null,
   "metadata": {
    "collapsed": true
   },
   "outputs": [],
   "source": [
    "import nltk\n",
    "import random\n",
    "from nltk.corpus import movie_reviews\n",
    "from nltk.classify.scikitlearn import SklearnClassifier\n",
    "import pickle\n",
    "\n",
    "from sklearn.naive_bayes import MultinomialNB, BernoulliNB\n",
    "from sklearn.linear_model import LogisticRegression, SGDClassifier\n",
    "from sklearn.svm import SVC, LinearSVC, NuSVC\n",
    "\n",
    "from nltk.classify import ClassifierI\n",
    "from statistics import mode\n",
    "\n",
    "from nltk.tokenize import word_tokenize\n",
    "\n",
    "\n",
    "class VoteClassifier(ClassifierI):\n",
    "    def __init__(self, *classifiers):\n",
    "        self._classifiers = classifiers\n",
    "\n",
    "    def classify(self, features):\n",
    "        votes = []\n",
    "        for c in self._classifiers:\n",
    "            v = c.classify(features)\n",
    "            votes.append(v)\n",
    "        return mode(votes)\n",
    "\n",
    "    def confidence(self, features):\n",
    "        votes = []\n",
    "        for c in self._classifiers:\n",
    "            v = c.classify(features)\n",
    "            votes.append(v)\n",
    "\n",
    "        choice_votes = votes.count(mode(votes))\n",
    "        conf = choice_votes / len(votes)\n",
    "        return conf\n",
    "        \n",
    "short_pos = open(\"short_reviews/positive.txt\",\"r\").read()\n",
    "short_neg = open(\"short_reviews/negative.txt\",\"r\").read()\n",
    "\n",
    "documents = []\n",
    "\n",
    "for r in short_pos.split('\\n'):\n",
    "    documents.append( (r, \"pos\") )\n",
    "\n",
    "for r in short_neg.split('\\n'):\n",
    "    documents.append( (r, \"neg\") )\n",
    "\n",
    "\n",
    "all_words = []\n",
    "\n",
    "short_pos_words = word_tokenize(short_pos)\n",
    "short_neg_words = word_tokenize(short_neg)\n",
    "\n",
    "for w in short_pos_words:\n",
    "    all_words.append(w.lower())\n",
    "\n",
    "for w in short_neg_words:\n",
    "    all_words.append(w.lower())\n",
    "\n",
    "all_words = nltk.FreqDist(all_words)\n",
    "\n",
    "word_features = list(all_words.keys())[:5000]\n",
    "\n",
    "def find_features(document):\n",
    "    words = word_tokenize(document)\n",
    "    features = {}\n",
    "    for w in word_features:\n",
    "        features[w] = (w in words)\n",
    "\n",
    "    return features\n",
    "\n",
    "#print((find_features(movie_reviews.words('neg/cv000_29416.txt'))))\n",
    "\n",
    "featuresets = [(find_features(rev), category) for (rev, category) in documents]\n",
    "\n",
    "random.shuffle(featuresets)\n",
    "\n",
    "# positive data example:      \n",
    "training_set = featuresets[:10000]\n",
    "testing_set =  featuresets[10000:]\n",
    "\n",
    "##\n",
    "### negative data example:      \n",
    "##training_set = featuresets[100:]\n",
    "##testing_set =  featuresets[:100]\n",
    "\n",
    "\n",
    "classifier = nltk.NaiveBayesClassifier.train(training_set)\n",
    "print(\"Original Naive Bayes Algo accuracy percent:\", (nltk.classify.accuracy(classifier, testing_set))*100)\n",
    "classifier.show_most_informative_features(15)\n",
    "\n",
    "MNB_classifier = SklearnClassifier(MultinomialNB())\n",
    "MNB_classifier.train(training_set)\n",
    "print(\"MNB_classifier accuracy percent:\", (nltk.classify.accuracy(MNB_classifier, testing_set))*100)\n",
    "\n",
    "BernoulliNB_classifier = SklearnClassifier(BernoulliNB())\n",
    "BernoulliNB_classifier.train(training_set)\n",
    "print(\"BernoulliNB_classifier accuracy percent:\", (nltk.classify.accuracy(BernoulliNB_classifier, testing_set))*100)\n",
    "\n",
    "LogisticRegression_classifier = SklearnClassifier(LogisticRegression())\n",
    "LogisticRegression_classifier.train(training_set)\n",
    "print(\"LogisticRegression_classifier accuracy percent:\", (nltk.classify.accuracy(LogisticRegression_classifier, testing_set))*100)\n",
    "\n",
    "SGDClassifier_classifier = SklearnClassifier(SGDClassifier())\n",
    "SGDClassifier_classifier.train(training_set)\n",
    "print(\"SGDClassifier_classifier accuracy percent:\", (nltk.classify.accuracy(SGDClassifier_classifier, testing_set))*100)\n",
    "\n",
    "##SVC_classifier = SklearnClassifier(SVC())\n",
    "##SVC_classifier.train(training_set)\n",
    "##print(\"SVC_classifier accuracy percent:\", (nltk.classify.accuracy(SVC_classifier, testing_set))*100)\n",
    "\n",
    "LinearSVC_classifier = SklearnClassifier(LinearSVC())\n",
    "LinearSVC_classifier.train(training_set)\n",
    "print(\"LinearSVC_classifier accuracy percent:\", (nltk.classify.accuracy(LinearSVC_classifier, testing_set))*100)\n",
    "\n",
    "NuSVC_classifier = SklearnClassifier(NuSVC())\n",
    "NuSVC_classifier.train(training_set)\n",
    "print(\"NuSVC_classifier accuracy percent:\", (nltk.classify.accuracy(NuSVC_classifier, testing_set))*100)\n",
    "\n",
    "\n",
    "voted_classifier = VoteClassifier(\n",
    "                                  NuSVC_classifier,\n",
    "                                  LinearSVC_classifier,\n",
    "                                  MNB_classifier,\n",
    "                                  BernoulliNB_classifier,\n",
    "                                  LogisticRegression_classifier)\n",
    "\n",
    "print(\"voted_classifier accuracy percent:\", (nltk.classify.accuracy(voted_classifier, testing_set))*100)"
   ]
  }
 ],
 "metadata": {
  "kernelspec": {
   "display_name": "Python 3",
   "language": "python",
   "name": "python3"
  },
  "language_info": {
   "codemirror_mode": {
    "name": "ipython",
    "version": 3
   },
   "file_extension": ".py",
   "mimetype": "text/x-python",
   "name": "python",
   "nbconvert_exporter": "python",
   "pygments_lexer": "ipython3",
   "version": "3.6.0"
  }
 },
 "nbformat": 4,
 "nbformat_minor": 2
}
